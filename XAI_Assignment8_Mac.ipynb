{
 "cells": [
  {
   "cell_type": "markdown",
   "id": "9e4208b8-ed12-413c-b423-4d398bf94af0",
   "metadata": {},
   "source": [
    "# Partial Dependence Plots (PDP)\n",
    "Partial Dependence Plots (PDP) isolate a single variable and single class (probability), and demonstrate the effect of varying that variable on that class, thereby showing the dependence of that class prediction on the variable. \n",
    "\n",
    "PDPs work by systematically increasing the variable (usually within the range of its min and max) and measuring the change in the model prediction. The plots show the class prediction probability for each value of the chosen variable. Each class prediction probability is an average across all data points for each value of the chosen variable.\n",
    "\n",
    "To break it down in code:"
   ]
  },
  {
   "cell_type": "code",
   "execution_count": 47,
   "id": "0fd3fa82-87c9-4848-88d8-861843a6bf77",
   "metadata": {},
   "outputs": [],
   "source": [
    "# Install libraries before running:\n",
    "# !pip install numpy pandas matplotlib seaborn scipy scikit-learn xgboost shap alepython"
   ]
  },
  {
   "cell_type": "markdown",
   "id": "990a5ebf-8528-48b8-b8b4-41e881585c01",
   "metadata": {},
   "source": [
    "Import libraries & prepare data"
   ]
  },
  {
   "cell_type": "code",
   "execution_count": 48,
   "id": "ecec5204-ca57-4bf4-adb2-9c609e197d35",
   "metadata": {},
   "outputs": [],
   "source": [
    "# Data\n",
    "import numpy as np\n",
    "import pandas as pd\n",
    "import matplotlib.pyplot as plt\n",
    "from matplotlib.colors import to_rgba\n",
    "import seaborn as sns\n",
    "from scipy.interpolate import RectBivariateSpline\n",
    "from sklearn.base import is_classifier\n",
    "\n",
    "# Dataset\n",
    "from sklearn.datasets import load_iris\n",
    "\n",
    "# Models\n",
    "import xgboost as xgb\n",
    "from sklearn.model_selection import train_test_split\n",
    "\n",
    "# XAI\n",
    "import shap\n",
    "from alepython import ale_plot\n",
    "from sklearn.inspection import PartialDependenceDisplay\n",
    "from sklearn.inspection import permutation_importance\n",
    "\n",
    "np.random.seed(1)"
   ]
  },
  {
   "cell_type": "code",
   "execution_count": 49,
   "id": "7f2b4bf2-8655-4b1a-a3bd-81b38f5830fc",
   "metadata": {},
   "outputs": [
    {
     "name": "stdout",
     "output_type": "stream",
     "text": [
      "   sepal length (cm)  sepal width (cm)  petal length (cm)  petal width (cm)  \\\n",
      "0                5.1               3.5                1.4               0.2   \n",
      "1                4.9               3.0                1.4               0.2   \n",
      "2                4.7               3.2                1.3               0.2   \n",
      "3                4.6               3.1                1.5               0.2   \n",
      "4                5.0               3.6                1.4               0.2   \n",
      "\n",
      "   target  \n",
      "0       0  \n",
      "1       0  \n",
      "2       0  \n",
      "3       0  \n",
      "4       0  \n"
     ]
    }
   ],
   "source": [
    "# Load dataset into dataframes\n",
    "data = load_iris()\n",
    "\n",
    "df = pd.DataFrame(data.data, columns=data.feature_names) # Full dataframe\n",
    "\n",
    "df[\"target\"] = data.target\n",
    "y = pd.DataFrame(data.target, columns=[\"target\"])  \n",
    "\n",
    "X = df.drop(columns=[\"target\"])\n",
    "X = pd.DataFrame(data.data, columns=data.feature_names) \n",
    "\n",
    "\n",
    "print(df.head())"
   ]
  },
  {
   "cell_type": "code",
   "execution_count": 50,
   "id": "a83c5f4a-bd57-482b-84bd-7445bd3723b3",
   "metadata": {},
   "outputs": [],
   "source": [
    "# Train test split\n",
    "\n",
    "X_train, X_test, y_train, y_test = train_test_split(X, y, test_size=0.2, random_state=42)"
   ]
  },
  {
   "cell_type": "markdown",
   "id": "787e14a2-28a4-49a2-858c-3ab33146a788",
   "metadata": {},
   "source": [
    "Fit the model (using XGBoost)"
   ]
  },
  {
   "cell_type": "code",
   "execution_count": 51,
   "id": "9bc86f30-2cf5-4311-8311-56d342c9d95d",
   "metadata": {},
   "outputs": [],
   "source": [
    "model = xgb.XGBClassifier().fit(X_train, y_train)"
   ]
  },
  {
   "cell_type": "markdown",
   "id": "0204a29f-4d0e-4012-869a-cf97eb2575cc",
   "metadata": {},
   "source": [
    "**Begin preparation for PDP plot.** \n",
    "Select the feature index and class"
   ]
  },
  {
   "cell_type": "code",
   "execution_count": 52,
   "id": "7f408daf-b2ba-42ed-b264-73f6a4dcbfb5",
   "metadata": {},
   "outputs": [],
   "source": [
    "# PDP plot, numpy implementation from https://github.com/AIPI-590-XAI/Duke-AI-XAI/blob/main/explainable-ml-example-notebooks/global_explanations.ipynb\n",
    "feature_index = 2  # The third feature\n",
    "target_class = 2 # The third class"
   ]
  },
  {
   "cell_type": "markdown",
   "id": "8d3210fe-746d-4411-8e3d-d3ef1f93290c",
   "metadata": {},
   "source": [
    "Create a range of values of that feature in a list. The feature values go from the minimum to the maximum value found in the data."
   ]
  },
  {
   "cell_type": "code",
   "execution_count": 53,
   "id": "5014176e-f02b-4873-855e-f1602e444929",
   "metadata": {},
   "outputs": [
    {
     "name": "stdout",
     "output_type": "stream",
     "text": [
      "[1.         1.07468354 1.14936709 1.22405063 1.29873418 1.37341772\n",
      " 1.44810127 1.52278481 1.59746835 1.6721519  1.74683544 1.82151899\n",
      " 1.89620253 1.97088608 2.04556962 2.12025316 2.19493671 2.26962025\n",
      " 2.3443038  2.41898734 2.49367089 2.56835443 2.64303797 2.71772152\n",
      " 2.79240506 2.86708861 2.94177215 3.0164557  3.09113924 3.16582278\n",
      " 3.24050633 3.31518987 3.38987342 3.46455696 3.53924051 3.61392405\n",
      " 3.68860759 3.76329114 3.83797468 3.91265823 3.98734177 4.06202532\n",
      " 4.13670886 4.21139241 4.28607595 4.36075949 4.43544304 4.51012658\n",
      " 4.58481013 4.65949367 4.73417722 4.80886076 4.8835443  4.95822785\n",
      " 5.03291139 5.10759494 5.18227848 5.25696203 5.33164557 5.40632911\n",
      " 5.48101266 5.5556962  5.63037975 5.70506329 5.77974684 5.85443038\n",
      " 5.92911392 6.00379747 6.07848101 6.15316456 6.2278481  6.30253165\n",
      " 6.37721519 6.45189873 6.52658228 6.60126582 6.67594937 6.75063291\n",
      " 6.82531646 6.9       ]\n"
     ]
    }
   ],
   "source": [
    "feature_values = np.linspace(np.min(X.iloc[:, feature_index]), np.max(X.iloc[:, feature_index]), num=80)\n",
    "\n",
    "# np.linspace evenly spaces the values between the min and max, for num=80 values.\n",
    "# X.iloc[:, feature_index] selects all the values of the target feature. Then we determine the np.min and np.max.\n",
    "\n",
    "print(feature_values)"
   ]
  },
  {
   "cell_type": "markdown",
   "id": "1c43b3d7-a5ee-4d0c-aaea-c1aa1479a918",
   "metadata": {},
   "source": [
    "Prepare an array to store average predictions and duplicate the dataset so that we can modify the target feature without affecting the original data"
   ]
  },
  {
   "cell_type": "code",
   "execution_count": 54,
   "id": "8c5146c1-e3f5-4f8f-af69-0cb71ac6ec87",
   "metadata": {},
   "outputs": [],
   "source": [
    "# Initialize array to store average predictions\n",
    "average_predictions = np.zeros_like(feature_values)\n",
    "\n",
    "# Duplicate the dataset to modify feature values\n",
    "X_modified = X.copy()"
   ]
  },
  {
   "cell_type": "markdown",
   "id": "df94303e-1034-4f26-8dc6-2aea57c3d618",
   "metadata": {},
   "source": [
    "**This is the key step.** It will iterate over the range of feature values, 80 values between the min (4.3) and max (7.9).\n",
    "\n",
    "For each, work out what the model will predict if we set that feature to that value for all data points. \n",
    "\n",
    "Average the prediction value across all the data points for each feature value, so we get one prediction value per feature value."
   ]
  },
  {
   "cell_type": "code",
   "execution_count": 55,
   "id": "6e907b1b-a3c2-4abd-a4fe-4c35502b909c",
   "metadata": {},
   "outputs": [
    {
     "data": {
      "image/png": "[encoded data removed]",
      "text/plain": [
       "<Figure size 640x480 with 1 Axes>"
      ]
     },
     "metadata": {},
     "output_type": "display_data"
    }
   ],
   "source": [
    "# Loop over feature values\n",
    "for i, value in enumerate(feature_values):\n",
    "    # Set the chosen feature to the current value for all instances\n",
    "    X_modified.iloc[:, feature_index] = value\n",
    "\n",
    "    # Predict using the modified dataset. \n",
    "    # Essentially, run the model for each row of data, but the chosen feature is set to a single value for every row.\n",
    "    predictions = model.predict_proba(X_modified)[:, target_class]\n",
    "\n",
    "    # Calculate average prediction for the current feature value\n",
    "    average_predictions[i] = np.mean(predictions)\n",
    "\n",
    "# Plot the partial dependence for the chosen feature\n",
    "plt.plot(feature_values, average_predictions)\n",
    "plt.xlabel(f'Feature {feature_index} values')\n",
    "plt.ylabel('Average predicted probability of class 1')\n",
    "plt.title(f'Partial Dependence for Feature {feature_index}')\n",
    "plt.show()"
   ]
  },
  {
   "cell_type": "markdown",
   "id": "2407f8bb-0095-40cb-b32f-385c56c9ceb3",
   "metadata": {},
   "source": [
    "This plot is pretty simple to interpret. Feature 2 values significantly affect the prediction of class 2, essentially making the prediction go from almost 0 to almost 1 when going from a value of 4 to 5. This is useful as it indicates that class 2 is highly dependent on feature 2."
   ]
  },
  {
   "cell_type": "markdown",
   "id": "20232c03-dcc5-4bf4-94f7-17e013e0573e",
   "metadata": {},
   "source": [
    "To make clear what we mean by averaging the value across all data points for each feature value, let's break down a single iteration in the for loop."
   ]
  },
  {
   "cell_type": "code",
   "execution_count": 57,
   "id": "f7e6785a-d8e4-45e5-9806-a26e8efb0c36",
   "metadata": {},
   "outputs": [
    {
     "name": "stdout",
     "output_type": "stream",
     "text": [
      "     sepal length (cm)  sepal width (cm)  petal length (cm)  petal width (cm)\n",
      "0                  5.1               3.5                5.1               0.2\n",
      "1                  4.9               3.0                5.1               0.2\n",
      "2                  4.7               3.2                5.1               0.2\n",
      "3                  4.6               3.1                5.1               0.2\n",
      "4                  5.0               3.6                5.1               0.2\n",
      "..                 ...               ...                ...               ...\n",
      "145                6.7               3.0                5.1               2.3\n",
      "146                6.3               2.5                5.1               1.9\n",
      "147                6.5               3.0                5.1               2.0\n",
      "148                6.2               3.4                5.1               2.3\n",
      "149                5.9               3.0                5.1               1.8\n",
      "\n",
      "[150 rows x 4 columns]\n",
      "\n",
      "We can see that we have set all of feature value 2 to 5.1, and there are 150 data points\n",
      "\n",
      "[0.66385925 0.6934539  0.66385925 0.66385925 0.66385925 0.6414737\n",
      " 0.66385925 0.66385925 0.6934539  0.66385925 0.6414737  0.66385925\n",
      " 0.6934539  0.6934539  0.56669056 0.56669056 0.6414737  0.66385925\n",
      " 0.56669056 0.66385925 0.6414737  0.66385925 0.66385925 0.66385925\n",
      " 0.66385925 0.6934539  0.66385925 0.66385925 0.66385925 0.66385925\n",
      " 0.66385925 0.6414737  0.66385925 0.6154504  0.66385925 0.66385925\n",
      " 0.6154504  0.66385925 0.6934539  0.66385925 0.66385925 0.85789967\n",
      " 0.66385925 0.66385925 0.66385925 0.6934539  0.66385925 0.66385925\n",
      " 0.66385925 0.66385925 0.82165617 0.82165617 0.82165617 0.81866276\n",
      " 0.9113432  0.73494095 0.39725482 0.85789967 0.84069175 0.62771887\n",
      " 0.85789967 0.52641183 0.885533   0.85452807 0.6127124  0.82165617\n",
      " 0.6127124  0.49098745 0.9184466  0.7656735  0.91021514 0.91973495\n",
      " 0.89531696 0.91842383 0.84069175 0.84069175 0.9113432  0.58202714\n",
      " 0.8060121  0.69325554 0.81665194 0.81665194 0.49098745 0.21628657\n",
      " 0.6781193  0.33567736 0.82165617 0.89814925 0.6127124  0.7996182\n",
      " 0.7391175  0.85452807 0.69325554 0.85789967 0.5025058  0.5996813\n",
      " 0.60449654 0.86051446 0.84306294 0.73494095 0.9819198  0.9919117\n",
      " 0.99312085 0.99442494 0.99442494 0.99312085 0.91722304 0.99312085\n",
      " 0.9964887  0.9819198  0.9819198  0.9965406  0.99312085 0.99342656\n",
      " 0.9947803  0.9819198  0.99442494 0.9819198  0.9962585  0.8863723\n",
      " 0.9819198  0.9947803  0.99801147 0.9965406  0.9819198  0.9819198\n",
      " 0.99873084 0.9954261  0.9983725  0.4301742  0.99801147 0.9819198\n",
      " 0.9983725  0.9113432  0.873535   0.99312085 0.9819198  0.98589313\n",
      " 0.9935807  0.98262835 0.98262835 0.98262835 0.9919117  0.9819198\n",
      " 0.9819198  0.99312085 0.99714285 0.99442494 0.9858139  0.9709897 ]\n",
      "\n",
      "Thus, we have 150 predictions for each data point\n",
      "\n",
      "Average prediction value = 0.7916477918624878\n",
      "\n",
      "So we take the average of those 150 values to get the single prediction value for that feature value. Then repeat for the other 79, and plot.\n"
     ]
    }
   ],
   "source": [
    "# Set the feature value to one example value (4.3, the minimum)\n",
    "value = 5.1\n",
    "X_modified.iloc[:, feature_index] = value\n",
    "\n",
    "print(X_modified)\n",
    "print(\"\\nWe can see that we have set all of feature value 2 to 5.1, and there are 150 data points\\n\")\n",
    "\n",
    "# Predict using the modified dataset\n",
    "predictions = model.predict_proba(X_modified)[:, target_class]\n",
    "\n",
    "print(predictions)\n",
    "print(\"\\nThus, we have 150 predictions for each data point\\n\")\n",
    "\n",
    "# Calculate average prediction for the current feature value\n",
    "average_predictions[i] = np.mean(predictions)\n",
    "print(\"Average prediction value =\", average_predictions[i])\n",
    "print(\"\\nSo we take the average of those 150 values to get the single prediction value for that feature value. Then repeat for the other 79, and plot.\")"
   ]
  }
 ],
 "metadata": {
  "kernelspec": {
   "display_name": "Python 3 (ipykernel)",
   "language": "python",
   "name": "python3"
  },
  "language_info": {
   "codemirror_mode": {
    "name": "ipython",
    "version": 3
   },
   "file_extension": ".py",
   "mimetype": "text/x-python",
   "name": "python",
   "nbconvert_exporter": "python",
   "pygments_lexer": "ipython3",
   "version": "3.11.6"
  }
 },
 "nbformat": 4,
 "nbformat_minor": 5
}
